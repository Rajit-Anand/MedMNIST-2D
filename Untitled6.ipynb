{
  "nbformat": 4,
  "nbformat_minor": 0,
  "metadata": {
    "colab": {
      "provenance": []
    },
    "kernelspec": {
      "name": "python3",
      "display_name": "Python 3"
    },
    "language_info": {
      "name": "python"
    }
  },
  "cells": [
    {
      "cell_type": "code",
      "execution_count": null,
      "metadata": {
        "id": "FX4sXmYbrBQM"
      },
      "outputs": [],
      "source": [
        "import numpy as np\n",
        "import time as t\n",
        "import pandas as pd\n",
        "\n",
        "def FdSubs(L, b):\n",
        "    n = len(b)\n",
        "    x = np.zeros(n)\n",
        "\n",
        "    for i in range(n):\n",
        "        x[i] = (b[i] - np.dot(L[i, :i], x[:i])) / L[i, i]\n",
        "\n",
        "    return x\n"
      ]
    },
    {
      "cell_type": "code",
      "source": [
        "def BdSubs(U, b):\n",
        "    n = len(b)\n",
        "    x = np.zeros(n)\n",
        "\n",
        "    for i in range(n - 1, -1, -1):\n",
        "        x[i] = (b[i] - np.dot(U[i, i + 1:], x[i + 1:])) / U[i, i]\n",
        "\n",
        "    return x\n"
      ],
      "metadata": {
        "id": "k3Y-dK-jrJIc"
      },
      "execution_count": null,
      "outputs": []
    },
    {
      "cell_type": "code",
      "source": [
        "\n",
        "def luSelfnP(A):\n",
        "    n = A.shape[0]\n",
        "    L = np.eye(n)\n",
        "    U = A.astype(float)\n",
        "\n",
        "    for k in range(n - 1):\n",
        "        for i in range(k + 1, n):\n",
        "            L[i, k] = U[i, k] / U[k, k]\n",
        "            U[i, :] -= L[i, k] * U[k, :]\n",
        "\n",
        "    return L, U\n",
        "\n",
        "\n"
      ],
      "metadata": {
        "id": "oK34XxHLrK5n"
      },
      "execution_count": null,
      "outputs": []
    },
    {
      "cell_type": "code",
      "source": [
        "n = 2\n",
        "A  = np.array([[1e-17, 1], [1, 1]])\n",
        "b = np.array([1, 0])\n",
        "\n",
        "L, U = luSelfnP(A)\n",
        "y = FdSubs(L, b)\n",
        "\n",
        "x_solution = BdSubs(U, y)\n",
        "\n",
        "\n",
        "print(\"Matrix A:\")\n",
        "print(A)\n",
        "print(\"\\nLower triangular matrix L:\")\n",
        "print(L)\n",
        "print(\"\\nUpper triangular matrix U:\")\n",
        "print(U)\n",
        "print(\"\\nSolution x (A*x = b):\")\n",
        "print(x_solution)\n",
        "print(\"\\nSolution x (A*x = b) by builtin function /:\")\n",
        "print(np.linalg.inv(A).dot(b))\n",
        "print(\"Both sol are not same\")"
      ],
      "metadata": {
        "colab": {
          "base_uri": "https://localhost:8080/"
        },
        "id": "a_FGwl8brRXh",
        "outputId": "7ec31cf1-6f19-45d1-d1d5-faa47a6bcb60"
      },
      "execution_count": null,
      "outputs": [
        {
          "output_type": "stream",
          "name": "stdout",
          "text": [
            "Matrix A:\n",
            "[[1.e-17 1.e+00]\n",
            " [1.e+00 1.e+00]]\n",
            "\n",
            "Lower triangular matrix L:\n",
            "[[1.e+00 0.e+00]\n",
            " [1.e+17 1.e+00]]\n",
            "\n",
            "Upper triangular matrix U:\n",
            "[[ 1.e-17  1.e+00]\n",
            " [ 0.e+00 -1.e+17]]\n",
            "\n",
            "Solution x (A*x = b):\n",
            "[0. 1.]\n",
            "\n",
            "Solution x (A*x = b) by builtin function /:\n",
            "[-1.  1.]\n",
            "Both sol are not same\n"
          ]
        }
      ]
    },
    {
      "cell_type": "code",
      "source": [
        "n = 2\n",
        "A[0, 0] = 1e-10\n",
        "L, U = luSelfnP(A)\n",
        "y = FdSubs(L, b)\n",
        "x_solution = BdSubs(U, y)\n",
        "\n",
        "\n",
        "print(\"Matrix A:\")\n",
        "print(A)\n",
        "print(\"\\nLower triangular matrix L:\")\n",
        "print(L)\n",
        "print(\"\\nUpper triangular matrix U:\")\n",
        "print(U)\n",
        "print(\"\\nSolution x (A*x = b):\")\n",
        "print(x_solution)\n",
        "print(\"\\nSolution x (A*x = b) by builtin function /:\")\n",
        "print(np.linalg.inv(A).dot(b))"
      ],
      "metadata": {
        "colab": {
          "base_uri": "https://localhost:8080/"
        },
        "id": "aIZ-NrOvuo64",
        "outputId": "4ec70a66-c1db-468d-8d4a-cd1e9b179220"
      },
      "execution_count": null,
      "outputs": [
        {
          "output_type": "stream",
          "name": "stdout",
          "text": [
            "Matrix A:\n",
            "[[1.e-10 1.e+00]\n",
            " [1.e+00 1.e+00]]\n",
            "\n",
            "Lower triangular matrix L:\n",
            "[[1.e+00 0.e+00]\n",
            " [1.e+10 1.e+00]]\n",
            "\n",
            "Upper triangular matrix U:\n",
            "[[ 1.e-10  1.e+00]\n",
            " [ 0.e+00 -1.e+10]]\n",
            "\n",
            "Solution x (A*x = b):\n",
            "[-1.00000008  1.        ]\n",
            "\n",
            "Solution x (A*x = b) by builtin function /:\n",
            "[-1.  1.]\n"
          ]
        }
      ]
    },
    {
      "cell_type": "code",
      "source": [
        "A[0,0]=1e-15\n",
        "L, U = luSelfnP(A)\n",
        "y = FdSubs(L, b)\n",
        "x_solution = BdSubs(U, y)\n",
        "\n",
        "\n",
        "print(\"Matrix A:\")\n",
        "print(A)\n",
        "print(\"\\nLower triangular matrix L:\")\n",
        "print(L)\n",
        "print(\"\\nUpper triangular matrix U:\")\n",
        "print(U)\n",
        "print(\"\\nSolution x (A*x = b):\")\n",
        "print(x_solution)\n",
        "print(\"\\nSolution x (A*x = b) by builtin function /:\")\n",
        "print(np.linalg.inv(A).dot(b))"
      ],
      "metadata": {
        "colab": {
          "base_uri": "https://localhost:8080/"
        },
        "id": "qC0hNOcfu84F",
        "outputId": "1d0658ce-5571-4dc5-e6dd-9029c4ba64c2"
      },
      "execution_count": null,
      "outputs": [
        {
          "output_type": "stream",
          "name": "stdout",
          "text": [
            "Matrix A:\n",
            "[[1.e-15 1.e+00]\n",
            " [1.e+00 1.e+00]]\n",
            "\n",
            "Lower triangular matrix L:\n",
            "[[1.e+00 0.e+00]\n",
            " [1.e+15 1.e+00]]\n",
            "\n",
            "Upper triangular matrix U:\n",
            "[[ 1.e-15  1.e+00]\n",
            " [ 0.e+00 -1.e+15]]\n",
            "\n",
            "Solution x (A*x = b):\n",
            "[-1.11022302  1.        ]\n",
            "\n",
            "Solution x (A*x = b) by builtin function /:\n",
            "[-1.  1.]\n"
          ]
        }
      ]
    },
    {
      "cell_type": "code",
      "source": [
        "A[0,0]=1e-16\n",
        "\n",
        "L, U = luSelfnP(A)\n",
        "y = FdSubs(L, b)\n",
        "x_solution = BdSubs(U, y)\n",
        "\n",
        "\n",
        "print(\"Matrix A:\")\n",
        "print(A)\n",
        "print(\"\\nLower triangular matrix L:\")\n",
        "print(L)\n",
        "print(\"\\nUpper triangular matrix U:\")\n",
        "print(U)\n",
        "print(\"\\nSolution x (A*x = b):\")\n",
        "print(x_solution)\n",
        "print(\"\\nSolution x (A*x = b) by builtin function /:\")\n",
        "print(np.linalg.inv(A).dot(b))"
      ],
      "metadata": {
        "colab": {
          "base_uri": "https://localhost:8080/"
        },
        "id": "-VDvHrKDvHAC",
        "outputId": "083e7f6e-fbe2-4ace-da79-c39717ed6b50"
      },
      "execution_count": null,
      "outputs": [
        {
          "output_type": "stream",
          "name": "stdout",
          "text": [
            "Matrix A:\n",
            "[[1.e-16 1.e+00]\n",
            " [1.e+00 1.e+00]]\n",
            "\n",
            "Lower triangular matrix L:\n",
            "[[1.e+00 0.e+00]\n",
            " [1.e+16 1.e+00]]\n",
            "\n",
            "Upper triangular matrix U:\n",
            "[[ 1.e-16  1.e+00]\n",
            " [ 0.e+00 -1.e+16]]\n",
            "\n",
            "Solution x (A*x = b):\n",
            "[0. 1.]\n",
            "\n",
            "Solution x (A*x = b) by builtin function /:\n",
            "[-1.  1.]\n"
          ]
        }
      ]
    },
    {
      "cell_type": "code",
      "source": [
        "\n",
        "def luSelfwP(A):\n",
        "    n = A.shape[0]\n",
        "    P=np.eye(n)\n",
        "    L = np.eye(n)\n",
        "    U = A.copy()\n",
        "    for k in range(n-1):\n",
        "        max_row = np.argmax(abs(U[k:n, k])) + k\n",
        "        if max_row != k:\n",
        "            U[[k, max_row],:] = U[[max_row, k],:]\n",
        "            P[[k, max_row],:] = P[[max_row, k],:]\n",
        "            if k > 0:\n",
        "                L[[k, max_row], :k] = L[[max_row, k], :k]\n",
        "\n",
        "\n",
        "        for i in range(k + 1, n):\n",
        "            L[i, k] = U[i, k] / U[k, k]\n",
        "            U[i, :] -= L[i, k] * U[k, :]\n",
        "\n",
        "    return L, U,P\n",
        "\n"
      ],
      "metadata": {
        "id": "XjKs1aMwvgfk"
      },
      "execution_count": null,
      "outputs": []
    },
    {
      "cell_type": "code",
      "source": [
        "n = 2\n",
        "A  = np.array([[1e-17, 1], [1, 1]])\n",
        "b = np.array([1, 0])\n",
        "\n",
        "L, U, P = luSelfwP(A)\n",
        "B=P.dot(b)\n",
        "y = FdSubs(L, B)\n",
        "\n",
        "x_solution = BdSubs(U, y)\n",
        "\n",
        "\n",
        "print(\"Matrix A:\")\n",
        "print(A)\n",
        "print(\"\\nLower triangular matrix L:\")\n",
        "print(L)\n",
        "print(\"\\nUpper triangular matrix U:\")\n",
        "print(U)\n",
        "print(\"\\nUpper triangular matrix P:\")\n",
        "print(P)\n",
        "print(\"\\nSolution of using PLU decomposition x (A*x = b):\")\n",
        "print(x_solution)\n",
        "print(\"\\nSolution x (A*x = b) by builtin function /:\")\n",
        "print(np.linalg.inv(A).dot(b))"
      ],
      "metadata": {
        "colab": {
          "base_uri": "https://localhost:8080/"
        },
        "id": "UcDj7tqmz12y",
        "outputId": "f2c30527-cb81-4f28-b485-c2e57ec035f5"
      },
      "execution_count": null,
      "outputs": [
        {
          "output_type": "stream",
          "name": "stdout",
          "text": [
            "Matrix A:\n",
            "[[1.e-17 1.e+00]\n",
            " [1.e+00 1.e+00]]\n",
            "\n",
            "Lower triangular matrix L:\n",
            "[[1.e+00 0.e+00]\n",
            " [1.e-17 1.e+00]]\n",
            "\n",
            "Upper triangular matrix U:\n",
            "[[1. 1.]\n",
            " [0. 1.]]\n",
            "\n",
            "Upper triangular matrix P:\n",
            "[[0. 1.]\n",
            " [1. 0.]]\n",
            "\n",
            "Solution of using PLU decomposition x (A*x = b):\n",
            "[-1.  1.]\n",
            "\n",
            "Solution x (A*x = b) by builtin function /:\n",
            "[-1.  1.]\n"
          ]
        }
      ]
    },
    {
      "cell_type": "code",
      "source": [
        "n = 2\n",
        "A[0, 0] = 1e-10\n",
        "L, U, P = luSelfwP(A)\n",
        "B=P.dot(b)\n",
        "y = FdSubs(L, B)\n",
        "\n",
        "x_solution = BdSubs(U, y)\n",
        "\n",
        "\n",
        "print(\"Matrix A:\")\n",
        "print(A)\n",
        "print(\"\\nLower triangular matrix L:\")\n",
        "print(L)\n",
        "print(\"\\nUpper triangular matrix U:\")\n",
        "print(U)\n",
        "print(\"\\nUpper triangular matrix P:\")\n",
        "print(P)\n",
        "print(\"\\nSolution of using PLU decomposition x (A*x = b):\")\n",
        "print(x_solution)\n",
        "print(\"\\nSolution x (A*x = b) by builtin function /:\")\n",
        "print(np.linalg.inv(A).dot(b))"
      ],
      "metadata": {
        "colab": {
          "base_uri": "https://localhost:8080/"
        },
        "id": "nMEmrN0Sz1qd",
        "outputId": "e183e05b-406c-4f6c-a891-3ffce75995e4"
      },
      "execution_count": null,
      "outputs": [
        {
          "output_type": "stream",
          "name": "stdout",
          "text": [
            "Matrix A:\n",
            "[[1.e-10 1.e+00]\n",
            " [1.e+00 1.e+00]]\n",
            "\n",
            "Lower triangular matrix L:\n",
            "[[1.e+00 0.e+00]\n",
            " [1.e-10 1.e+00]]\n",
            "\n",
            "Upper triangular matrix U:\n",
            "[[1. 1.]\n",
            " [0. 1.]]\n",
            "\n",
            "Upper triangular matrix P:\n",
            "[[0. 1.]\n",
            " [1. 0.]]\n",
            "\n",
            "Solution of using PLU decomposition x (A*x = b):\n",
            "[-1.  1.]\n",
            "\n",
            "Solution x (A*x = b) by builtin function /:\n",
            "[-1.  1.]\n"
          ]
        }
      ]
    },
    {
      "cell_type": "code",
      "source": [
        "A[0,0]=1e-15\n",
        "L, U, P = luSelfwP(A)\n",
        "B=P.dot(b)\n",
        "y = FdSubs(L, B)\n",
        "\n",
        "x_solution = BdSubs(U, y)\n",
        "\n",
        "\n",
        "print(\"Matrix A:\")\n",
        "print(A)\n",
        "print(\"\\nLower triangular matrix L:\")\n",
        "print(L)\n",
        "print(\"\\nUpper triangular matrix U:\")\n",
        "print(U)\n",
        "print(\"\\nUpper triangular matrix P:\")\n",
        "print(P)\n",
        "print(\"\\nSolution of using PLU decomposition x (A*x = b):\")\n",
        "print(x_solution)\n",
        "print(\"\\nSolution x (A*x = b) by builtin function /:\")\n",
        "print(np.linalg.inv(A).dot(b))"
      ],
      "metadata": {
        "colab": {
          "base_uri": "https://localhost:8080/"
        },
        "id": "RX0FCHeR2mFa",
        "outputId": "9abc2bb2-b9de-46f0-e2e4-bbdb58d41b2f"
      },
      "execution_count": null,
      "outputs": [
        {
          "output_type": "stream",
          "name": "stdout",
          "text": [
            "Matrix A:\n",
            "[[1.e-15 1.e+00]\n",
            " [1.e+00 1.e+00]]\n",
            "\n",
            "Lower triangular matrix L:\n",
            "[[1.e+00 0.e+00]\n",
            " [1.e-15 1.e+00]]\n",
            "\n",
            "Upper triangular matrix U:\n",
            "[[1. 1.]\n",
            " [0. 1.]]\n",
            "\n",
            "Upper triangular matrix P:\n",
            "[[0. 1.]\n",
            " [1. 0.]]\n",
            "\n",
            "Solution of using PLU decomposition x (A*x = b):\n",
            "[-1.  1.]\n",
            "\n",
            "Solution x (A*x = b) by builtin function /:\n",
            "[-1.  1.]\n"
          ]
        }
      ]
    },
    {
      "cell_type": "code",
      "source": [
        "A[0,0]=1e-16\n",
        "\n",
        "L, U, P = luSelfwP(A)\n",
        "B=P.dot(b)\n",
        "y = FdSubs(L, B)\n",
        "\n",
        "x_solution = BdSubs(U, y)\n",
        "\n",
        "\n",
        "print(\"Matrix A:\")\n",
        "print(A)\n",
        "print(\"\\nLower triangular matrix L:\")\n",
        "print(L)\n",
        "print(\"\\nUpper triangular matrix U:\")\n",
        "print(U)\n",
        "print(\"\\nUpper triangular matrix P:\")\n",
        "print(P)\n",
        "print(\"\\nSolution of using PLU decomposition x (A*x = b):\")\n",
        "print(x_solution)\n",
        "print(\"\\nSolution x (A*x = b) by builtin function /:\")\n",
        "print(np.linalg.inv(A).dot(b))"
      ],
      "metadata": {
        "colab": {
          "base_uri": "https://localhost:8080/"
        },
        "id": "eedtMJTG2qeu",
        "outputId": "359225e1-1493-44c1-82a1-8645282c75bd"
      },
      "execution_count": null,
      "outputs": [
        {
          "output_type": "stream",
          "name": "stdout",
          "text": [
            "Matrix A:\n",
            "[[1.e-16 1.e+00]\n",
            " [1.e+00 1.e+00]]\n",
            "\n",
            "Lower triangular matrix L:\n",
            "[[1.e+00 0.e+00]\n",
            " [1.e-16 1.e+00]]\n",
            "\n",
            "Upper triangular matrix U:\n",
            "[[1. 1.]\n",
            " [0. 1.]]\n",
            "\n",
            "Upper triangular matrix P:\n",
            "[[0. 1.]\n",
            " [1. 0.]]\n",
            "\n",
            "Solution of using PLU decomposition x (A*x = b):\n",
            "[-1.  1.]\n",
            "\n",
            "Solution x (A*x = b) by builtin function /:\n",
            "[-1.  1.]\n"
          ]
        }
      ]
    },
    {
      "cell_type": "code",
      "source": [
        "!pip install scipy"
      ],
      "metadata": {
        "colab": {
          "base_uri": "https://localhost:8080/"
        },
        "id": "3qDrMegL-TGX",
        "outputId": "aaf3cb12-c25b-44b2-a1ea-34608ce11c1c"
      },
      "execution_count": null,
      "outputs": [
        {
          "output_type": "stream",
          "name": "stdout",
          "text": [
            "Requirement already satisfied: scipy in /usr/local/lib/python3.11/dist-packages (1.13.1)\n",
            "Requirement already satisfied: numpy<2.3,>=1.22.4 in /usr/local/lib/python3.11/dist-packages (from scipy) (1.26.4)\n"
          ]
        }
      ]
    },
    {
      "cell_type": "code",
      "source": [
        "import scipy.linalg\n",
        "import random as rd\n",
        "for i in range(4):\n",
        "  n=int(input(\"enter value of n:\"))\n",
        "  A=np.random.rand(n,n)\n",
        "  A[0,0]=1e-20\n",
        "  L, U = luSelfnP(A)\n",
        "  print(\"Norm of A-LU of matrix \",n,\"X\",n,\" : \",np.linalg.norm((A-L.dot(U))))\n",
        "\n",
        "  L, U, P = luSelfwP(A)\n",
        "  print(\"Norm of PA-LU of matrix \",n,\"X\",n,\" : \",np.linalg.norm((P.dot(A)-L.dot(U))))\n",
        "\n",
        "  P, L, U = scipy.linalg.lu(A)\n",
        "  print(\"Norm of PA-LU of matrix \",n,\"X\",n,\" : \",np.linalg.norm(P.dot(A)-L.dot(U)))\n"
      ],
      "metadata": {
        "colab": {
          "base_uri": "https://localhost:8080/"
        },
        "id": "5i_4LmoY4J5C",
        "outputId": "f72fecc1-5a9c-46a0-be4d-54a0d5ec08e2"
      },
      "execution_count": null,
      "outputs": [
        {
          "name": "stdout",
          "output_type": "stream",
          "text": [
            "enter value of n:20\n"
          ]
        },
        {
          "output_type": "stream",
          "name": "stderr",
          "text": [
            "<ipython-input-3-f063b22260f4>:9: RuntimeWarning: divide by zero encountered in scalar divide\n",
            "  L[i, k] = U[i, k] / U[k, k]\n",
            "<ipython-input-3-f063b22260f4>:10: RuntimeWarning: invalid value encountered in multiply\n",
            "  U[i, :] -= L[i, k] * U[k, :]\n",
            "<ipython-input-3-f063b22260f4>:9: RuntimeWarning: invalid value encountered in scalar divide\n",
            "  L[i, k] = U[i, k] / U[k, k]\n"
          ]
        },
        {
          "output_type": "stream",
          "name": "stdout",
          "text": [
            "Norm of A-LU of matrix  20 X 20  :  nan\n",
            "Norm of PA-LU of matrix  20 X 20  :  1.6884519612119423e-15\n",
            "Norm of PA-LU of matrix  20 X 20  :  8.153655609155187\n",
            "enter value of n:40\n",
            "Norm of A-LU of matrix  40 X 40  :  nan\n",
            "Norm of PA-LU of matrix  40 X 40  :  5.457436471282445e-15\n",
            "Norm of PA-LU of matrix  40 X 40  :  14.625119112799723\n",
            "enter value of n:60\n",
            "Norm of A-LU of matrix  60 X 60  :  nan\n",
            "Norm of PA-LU of matrix  60 X 60  :  1.1526489890118924e-14\n",
            "Norm of PA-LU of matrix  60 X 60  :  23.718989651652382\n",
            "enter value of n:100\n",
            "Norm of A-LU of matrix  100 X 100  :  nan\n",
            "Norm of PA-LU of matrix  100 X 100  :  2.8065573652940158e-14\n",
            "Norm of PA-LU of matrix  100 X 100  :  40.342071773333664\n"
          ]
        }
      ]
    },
    {
      "cell_type": "code",
      "source": [
        "def rrefSelfwP(A):\n",
        "    A = A.astype(float)\n",
        "    m, n = A.shape\n",
        "    i = 0\n",
        "\n",
        "    while i < min(m, n):\n",
        "        pivot_row = np.argmax(np.abs(A[i:m, i])) + i\n",
        "        A[[i, pivot_row]] = A[[pivot_row, i]]\n",
        "        if A[i, i] == 0:\n",
        "            i += 1\n",
        "        else:\n",
        "            A[i, :] = A[i, :] / A[i, i]\n",
        "\n",
        "            for j in range(i + 1, m):\n",
        "                A[j, :] -= A[j, i] * A[i, :]\n",
        "\n",
        "            i += 1\n",
        "    for i in range(min(m,n) - 1, 0, -1):\n",
        "        for j in range(i - 1, -1, -1):\n",
        "            A[j, :] -= A[j, i] * A[i, :]\n",
        "\n",
        "    return A"
      ],
      "metadata": {
        "id": "Yctr37QvM9Ue"
      },
      "execution_count": null,
      "outputs": []
    },
    {
      "cell_type": "code",
      "source": [
        "import sympy as sp\n",
        "A1 = np.array([[1, 2, 3], [4, 5, 6], [7, 8, 9]])\n",
        "A2 = np.array([[1, 2], [3, 4], [5, 6]])\n",
        "A3 = np.array([[2, 4, 6], [1, 3, 5], [4, 6, 8]])\n",
        "A4 = np.array([[1, 0, 0, 4], [0, 1, 0, 5], [0, 0, 1, 6]])\n",
        "A5 = np.array([[3, 1, -1], [1, 2, 3], [2, -1, 4]])\n",
        "\n",
        "print('RREF of A1 (self-implemented):\\n', rrefSelfwP(A1))\n",
        "print('RREF of A1 (built-in):\\n', sp.Matrix(A1).rref()[0])\n",
        "\n",
        "print('RREF of A2 (self-implemented):\\n', rrefSelfwP(A2))\n",
        "print('RREF of A2 (built-in):\\n', sp.Matrix(A2).rref()[0])\n",
        "\n",
        "print('RREF of A3 (self-implemented):\\n', rrefSelfwP(A3))\n",
        "print('RREF of A3 (built-in):\\n', sp.Matrix(A3).rref()[0])\n",
        "\n",
        "print('RREF of A4 (self-implemented):\\n', rrefSelfwP(A4))\n",
        "print('RREF of A4 (built-in):\\n', sp.Matrix(A4).rref()[0])\n",
        "\n",
        "print('RREF of A5 (self-implemented):\\n', rrefSelfwP(A5))\n",
        "print('RREF of A5 (built-in):\\n', sp.Matrix(A5).rref()[0])"
      ],
      "metadata": {
        "colab": {
          "base_uri": "https://localhost:8080/"
        },
        "id": "LGgnZhJvN6aE",
        "outputId": "c52ad2cb-95e8-4d05-a9e4-e2a0fcc10d9c"
      },
      "execution_count": null,
      "outputs": [
        {
          "output_type": "stream",
          "name": "stdout",
          "text": [
            "RREF of A1 (self-implemented):\n",
            " [[ 1.  0.  0.]\n",
            " [ 0.  1.  0.]\n",
            " [-0. -0.  1.]]\n",
            "RREF of A1 (built-in):\n",
            " Matrix([[1, 0, -1], [0, 1, 2], [0, 0, 0]])\n",
            "RREF of A2 (self-implemented):\n",
            " [[1. 0.]\n",
            " [0. 1.]\n",
            " [0. 0.]]\n",
            "RREF of A2 (built-in):\n",
            " Matrix([[1, 0], [0, 1], [0, 0]])\n",
            "RREF of A3 (self-implemented):\n",
            " [[ 1.  0. -1.]\n",
            " [ 0.  1.  2.]\n",
            " [ 0.  0.  0.]]\n",
            "RREF of A3 (built-in):\n",
            " Matrix([[1, 0, -1], [0, 1, 2], [0, 0, 0]])\n",
            "RREF of A4 (self-implemented):\n",
            " [[1. 0. 0. 4.]\n",
            " [0. 1. 0. 5.]\n",
            " [0. 0. 1. 6.]]\n",
            "RREF of A4 (built-in):\n",
            " Matrix([[1, 0, 0, 4], [0, 1, 0, 5], [0, 0, 1, 6]])\n",
            "RREF of A5 (self-implemented):\n",
            " [[1. 0. 0.]\n",
            " [0. 1. 0.]\n",
            " [0. 0. 1.]]\n",
            "RREF of A5 (built-in):\n",
            " Matrix([[1, 0, 0], [0, 1, 0], [0, 0, 1]])\n"
          ]
        }
      ]
    }
  ]
}